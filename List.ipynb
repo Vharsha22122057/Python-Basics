{
 "cells": [
  {
   "cell_type": "code",
   "execution_count": 1,
   "id": "df9f0bbf",
   "metadata": {},
   "outputs": [
    {
     "data": {
      "text/plain": [
       "list"
      ]
     },
     "execution_count": 1,
     "metadata": {},
     "output_type": "execute_result"
    }
   ],
   "source": [
    "x=[]\n",
    "type(x)"
   ]
  },
  {
   "cell_type": "code",
   "execution_count": 2,
   "id": "8e7775ef",
   "metadata": {},
   "outputs": [
    {
     "data": {
      "text/plain": [
       "list"
      ]
     },
     "execution_count": 2,
     "metadata": {},
     "output_type": "execute_result"
    }
   ],
   "source": [
    "int_x=[1,2,3,4]\n",
    "type(int_x)"
   ]
  },
  {
   "cell_type": "code",
   "execution_count": 3,
   "id": "87de5761",
   "metadata": {},
   "outputs": [
    {
     "data": {
      "text/plain": [
       "list"
      ]
     },
     "execution_count": 3,
     "metadata": {},
     "output_type": "execute_result"
    }
   ],
   "source": [
    "mul_x=[12,12.0,'12.o',True]\n",
    "type(mul_x)"
   ]
  },
  {
   "cell_type": "code",
   "execution_count": 4,
   "id": "36074266",
   "metadata": {},
   "outputs": [
    {
     "name": "stdout",
     "output_type": "stream",
     "text": [
      "[12, 12.0, '12.o', True]\n"
     ]
    }
   ],
   "source": [
    "print(mul_x)"
   ]
  },
  {
   "cell_type": "code",
   "execution_count": 5,
   "id": "9a1da439",
   "metadata": {},
   "outputs": [
    {
     "data": {
      "text/plain": [
       "4"
      ]
     },
     "execution_count": 5,
     "metadata": {},
     "output_type": "execute_result"
    }
   ],
   "source": [
    "len(mul_x)"
   ]
  },
  {
   "cell_type": "code",
   "execution_count": 6,
   "id": "b62eb392",
   "metadata": {},
   "outputs": [
    {
     "data": {
      "text/plain": [
       "'12.o'"
      ]
     },
     "execution_count": 6,
     "metadata": {},
     "output_type": "execute_result"
    }
   ],
   "source": [
    "mul_x[2]"
   ]
  },
  {
   "cell_type": "code",
   "execution_count": 7,
   "id": "c6ab7cbf",
   "metadata": {},
   "outputs": [
    {
     "data": {
      "text/plain": [
       "[12.0, True]"
      ]
     },
     "execution_count": 7,
     "metadata": {},
     "output_type": "execute_result"
    }
   ],
   "source": [
    "mul_x[1::2]"
   ]
  },
  {
   "cell_type": "code",
   "execution_count": 8,
   "id": "ab0e2c25",
   "metadata": {},
   "outputs": [
    {
     "ename": "IndexError",
     "evalue": "list assignment index out of range",
     "output_type": "error",
     "traceback": [
      "\u001b[1;31m---------------------------------------------------------------------------\u001b[0m",
      "\u001b[1;31mIndexError\u001b[0m                                Traceback (most recent call last)",
      "Input \u001b[1;32mIn [8]\u001b[0m, in \u001b[0;36m<cell line: 1>\u001b[1;34m()\u001b[0m\n\u001b[1;32m----> 1\u001b[0m mul_x[\u001b[38;5;241m4\u001b[39m]\u001b[38;5;241m=\u001b[39m\u001b[38;5;124m'\u001b[39m\u001b[38;5;124mBlahhhhh\u001b[39m\u001b[38;5;124m'\u001b[39m\n",
      "\u001b[1;31mIndexError\u001b[0m: list assignment index out of range"
     ]
    }
   ],
   "source": [
    "mul_x[4]='Blahhhhh'"
   ]
  },
  {
   "cell_type": "code",
   "execution_count": 9,
   "id": "7cbd1a67",
   "metadata": {},
   "outputs": [
    {
     "data": {
      "text/plain": [
       "[12, 'Blahhhh', '12.o', True]"
      ]
     },
     "execution_count": 9,
     "metadata": {},
     "output_type": "execute_result"
    }
   ],
   "source": [
    "mul_x[1]='Blahhhh'\n",
    "mul_x"
   ]
  },
  {
   "cell_type": "code",
   "execution_count": 10,
   "id": "546831ce",
   "metadata": {},
   "outputs": [
    {
     "data": {
      "text/plain": [
       "[]"
      ]
     },
     "execution_count": 10,
     "metadata": {},
     "output_type": "execute_result"
    }
   ],
   "source": [
    "mul_x[-1:0]"
   ]
  },
  {
   "cell_type": "code",
   "execution_count": 11,
   "id": "5cf81e84",
   "metadata": {},
   "outputs": [
    {
     "data": {
      "text/plain": [
       "[]"
      ]
     },
     "execution_count": 11,
     "metadata": {},
     "output_type": "execute_result"
    }
   ],
   "source": [
    "mul_x[-1:1]                         #its always either the way (forward/reverse), it cant be both "
   ]
  },
  {
   "cell_type": "code",
   "execution_count": 16,
   "id": "b102aef5",
   "metadata": {},
   "outputs": [
    {
     "data": {
      "text/plain": [
       "[12, 'Blahhhh', '12.o', True, 1200, 1200, 120, 102]"
      ]
     },
     "execution_count": 16,
     "metadata": {},
     "output_type": "execute_result"
    }
   ],
   "source": [
    "mul_x.append(102)\n",
    "mul_x                          # the number adds as many times the code is run"
   ]
  },
  {
   "cell_type": "code",
   "execution_count": 13,
   "id": "e7fa0e64",
   "metadata": {},
   "outputs": [
    {
     "ename": "TypeError",
     "evalue": "list.append() takes exactly one argument (3 given)",
     "output_type": "error",
     "traceback": [
      "\u001b[1;31m---------------------------------------------------------------------------\u001b[0m",
      "\u001b[1;31mTypeError\u001b[0m                                 Traceback (most recent call last)",
      "Input \u001b[1;32mIn [13]\u001b[0m, in \u001b[0;36m<cell line: 1>\u001b[1;34m()\u001b[0m\n\u001b[1;32m----> 1\u001b[0m \u001b[43mmul_x\u001b[49m\u001b[38;5;241;43m.\u001b[39;49m\u001b[43mappend\u001b[49m\u001b[43m(\u001b[49m\u001b[38;5;241;43m1\u001b[39;49m\u001b[43m,\u001b[49m\u001b[38;5;241;43m2\u001b[39;49m\u001b[43m,\u001b[49m\u001b[38;5;241;43m3\u001b[39;49m\u001b[43m)\u001b[49m\n\u001b[0;32m      2\u001b[0m mul_x\n",
      "\u001b[1;31mTypeError\u001b[0m: list.append() takes exactly one argument (3 given)"
     ]
    }
   ],
   "source": [
    "mul_x.append(1,2,3)\n",
    "mul_x                 #append expects only a single value"
   ]
  },
  {
   "cell_type": "markdown",
   "id": "c46d3242",
   "metadata": {},
   "source": [
    "### extend"
   ]
  },
  {
   "cell_type": "code",
   "execution_count": 17,
   "id": "a0ab2ab5",
   "metadata": {},
   "outputs": [],
   "source": [
    "### to add multiple elements"
   ]
  },
  {
   "cell_type": "code",
   "execution_count": 18,
   "id": "3e424bc7",
   "metadata": {},
   "outputs": [
    {
     "data": {
      "text/plain": [
       "[12, 'Blahhhh', '12.o', True, 1200, 1200, 120, 102, 1, 2, 3]"
      ]
     },
     "execution_count": 18,
     "metadata": {},
     "output_type": "execute_result"
    }
   ],
   "source": [
    "mul_x.extend([1,2,3])\n",
    "mul_x"
   ]
  },
  {
   "cell_type": "code",
   "execution_count": 19,
   "id": "2d8654be",
   "metadata": {},
   "outputs": [],
   "source": [
    "#list within a list"
   ]
  },
  {
   "cell_type": "code",
   "execution_count": 20,
   "id": "1af00328",
   "metadata": {},
   "outputs": [
    {
     "data": {
      "text/plain": [
       "[12, 'Blahhhh', '12.o', True, 1200, 1200, 120, 102, 1, 2, 3, [1, 2, 3]]"
      ]
     },
     "execution_count": 20,
     "metadata": {},
     "output_type": "execute_result"
    }
   ],
   "source": [
    "mul_x.append([1,2,3])\n",
    "mul_x"
   ]
  },
  {
   "cell_type": "code",
   "execution_count": 21,
   "id": "2b671bbc",
   "metadata": {},
   "outputs": [
    {
     "data": {
      "text/plain": [
       "12"
      ]
     },
     "execution_count": 21,
     "metadata": {},
     "output_type": "execute_result"
    }
   ],
   "source": [
    "len(mul_x)"
   ]
  },
  {
   "cell_type": "code",
   "execution_count": 22,
   "id": "fe3d4c51",
   "metadata": {},
   "outputs": [
    {
     "name": "stdout",
     "output_type": "stream",
     "text": [
      "[1, 2, 3, 4, 5, 6, 7]\n"
     ]
    }
   ],
   "source": [
    "a=[1,2,3,4]\n",
    "b=[5,6,7]\n",
    "c=a+b\n",
    "print(c)"
   ]
  },
  {
   "cell_type": "code",
   "execution_count": 24,
   "id": "0f92ce31",
   "metadata": {},
   "outputs": [
    {
     "name": "stdout",
     "output_type": "stream",
     "text": [
      "12,Blahhhh,12.o,True,1200,1200,120,102,1,2,3,[1, 2, 3],"
     ]
    }
   ],
   "source": [
    "for i in mul_x:\n",
    "    print(i,end=',')"
   ]
  },
  {
   "cell_type": "code",
   "execution_count": 26,
   "id": "85dc0b6c",
   "metadata": {},
   "outputs": [
    {
     "name": "stdout",
     "output_type": "stream",
     "text": [
      "[12, 'Blahhhh', '12.o', True, 1200, 1200, 120, 102, 1, 2, 3, [1, 2, 3]]\n",
      "[12, 'Blahhhh', '12.o', True, 1200, 1200, 120, 102, 1, 2, 3, [1, 2, 3]]\n",
      "[12, 'Blahhhh', '12.o', True, 1200, 1200, 120, 102, 1, 2, 3, [1, 2, 3]]\n",
      "[12, 'Blahhhh', '12.o', True, 1200, 1200, 120, 102, 1, 2, 3, [1, 2, 3]]\n",
      "[12, 'Blahhhh', '12.o', True, 1200, 1200, 120, 102, 1, 2, 3, [1, 2, 3]]\n",
      "[12, 'Blahhhh', '12.o', True, 1200, 1200, 120, 102, 1, 2, 3, [1, 2, 3]]\n",
      "[12, 'Blahhhh', '12.o', True, 1200, 1200, 120, 102, 1, 2, 3, [1, 2, 3]]\n",
      "[12, 'Blahhhh', '12.o', True, 1200, 1200, 120, 102, 1, 2, 3, [1, 2, 3]]\n",
      "[12, 'Blahhhh', '12.o', True, 1200, 1200, 120, 102, 1, 2, 3, [1, 2, 3]]\n",
      "[12, 'Blahhhh', '12.o', True, 1200, 1200, 120, 102, 1, 2, 3, [1, 2, 3]]\n"
     ]
    }
   ],
   "source": [
    "for i in range (0,len(mul_x)-2):\n",
    "    print(mul_x)"
   ]
  },
  {
   "cell_type": "code",
   "execution_count": 3,
   "id": "d9741d6c",
   "metadata": {},
   "outputs": [
    {
     "data": {
      "text/plain": [
       "4"
      ]
     },
     "execution_count": 3,
     "metadata": {},
     "output_type": "execute_result"
    }
   ],
   "source": [
    "### nested loop\n",
    "\n",
    "a=[1,2,[3,4,5]]\n",
    "a[2][1]"
   ]
  },
  {
   "cell_type": "code",
   "execution_count": 4,
   "id": "1cbafa4b",
   "metadata": {},
   "outputs": [
    {
     "name": "stdout",
     "output_type": "stream",
     "text": [
      "enter a value: 1\n",
      "['1']\n",
      "enter a value: 2\n",
      "['1', '2']\n",
      "enter a value: 3\n",
      "['1', '2', '3']\n",
      "enter a value: 4\n",
      "['1', '2', '3', '4']\n",
      "enter a value: 5\n",
      "['1', '2', '3', '4', '5']\n"
     ]
    }
   ],
   "source": [
    "list=[]\n",
    "for i in range(5):\n",
    "    a=input('enter a value: ')\n",
    "    list.append(a)\n",
    "    print(list)"
   ]
  },
  {
   "cell_type": "code",
   "execution_count": 5,
   "id": "4718cb21",
   "metadata": {},
   "outputs": [
    {
     "name": "stdout",
     "output_type": "stream",
     "text": [
      "2\n",
      "3\n",
      "4\n",
      "5\n",
      "6\n",
      "7\n",
      "8\n",
      "9\n",
      "10\n",
      "1\n",
      "[1, 2, 3, 4, 5, 6, 7, 8, 9, 0]\n"
     ]
    }
   ],
   "source": [
    "l4=[1,2,3,4,5,6,7,8,9,0]\n",
    "for i in l4:\n",
    "    i=i+1\n",
    "    print(i)\n",
    "print(l4)"
   ]
  },
  {
   "cell_type": "code",
   "execution_count": 6,
   "id": "5e3f3d41",
   "metadata": {},
   "outputs": [
    {
     "name": "stdout",
     "output_type": "stream",
     "text": [
      "0\n",
      "1\n",
      "2\n",
      "3\n",
      "4\n",
      "5\n",
      "6\n",
      "7\n",
      "8\n",
      "9\n"
     ]
    }
   ],
   "source": [
    "### position of the elements\n",
    "for i in range(len(l4)):\n",
    "    print(i)"
   ]
  },
  {
   "cell_type": "code",
   "execution_count": 8,
   "id": "cdcd3df8",
   "metadata": {},
   "outputs": [
    {
     "name": "stdout",
     "output_type": "stream",
     "text": [
      "[3, 4, 5, 6, 7, 8, 9, 10, 11, 2]\n"
     ]
    }
   ],
   "source": [
    "for i in range(len(l4)):\n",
    "    l4[i]=l4[i]+1\n",
    "print(l4)"
   ]
  },
  {
   "cell_type": "code",
   "execution_count": 21,
   "id": "4c9a8e1b",
   "metadata": {},
   "outputs": [
    {
     "name": "stdout",
     "output_type": "stream",
     "text": [
      "How many values do you need?4\n",
      "enter a value: 1\n",
      "[1]\n",
      "enter a value: 2\n",
      "[1, 2]\n",
      "enter a value: 3\n",
      "[1, 2, 3]\n",
      "enter a value: 4\n",
      "[1, 2, 3, 4]\n",
      "[6, 7, 8, 9]\n"
     ]
    }
   ],
   "source": [
    "# Input the number of element in a list from the user and add o sub 5 to every element in the list\n",
    "\n",
    "lt=[]\n",
    "num=int(input('How many values do you need?'))\n",
    "for i in range(num):\n",
    "    a=input('enter a value: ')\n",
    "    lt.append(int(a))\n",
    "    print(lt)\n",
    "for i in range(len(lt)):\n",
    "    lt[i]=lt[i]+5\n",
    "print(lt)\n",
    "  "
   ]
  },
  {
   "cell_type": "code",
   "execution_count": 22,
   "id": "d15af01c",
   "metadata": {},
   "outputs": [
    {
     "name": "stdout",
     "output_type": "stream",
     "text": [
      "[3, 4, 10, 5, 6, 7, 8, 9, 10, 11, 2]\n"
     ]
    }
   ],
   "source": [
    "l4.insert(2,10)    #(position,value)\n",
    "print(l4)"
   ]
  },
  {
   "cell_type": "code",
   "execution_count": 24,
   "id": "67512096",
   "metadata": {},
   "outputs": [
    {
     "name": "stdout",
     "output_type": "stream",
     "text": [
      "[3, 4, 5, 6, 7, 8, 9, 11, 2]\n"
     ]
    }
   ],
   "source": [
    "l4.remove(10)      #(value)\n",
    "print(l4)          #(removes only the first occurance)"
   ]
  },
  {
   "cell_type": "code",
   "execution_count": 25,
   "id": "68fe8d52",
   "metadata": {},
   "outputs": [
    {
     "data": {
      "text/plain": [
       "2"
      ]
     },
     "execution_count": 25,
     "metadata": {},
     "output_type": "execute_result"
    }
   ],
   "source": [
    "l4.pop()                #without argument removes the last element"
   ]
  },
  {
   "cell_type": "code",
   "execution_count": 28,
   "id": "f972e12b",
   "metadata": {},
   "outputs": [
    {
     "data": {
      "text/plain": [
       "3"
      ]
     },
     "execution_count": 28,
     "metadata": {},
     "output_type": "execute_result"
    }
   ],
   "source": [
    "l4.pop(0)             #argument value-index value"
   ]
  },
  {
   "cell_type": "code",
   "execution_count": 29,
   "id": "70edcec2",
   "metadata": {},
   "outputs": [
    {
     "data": {
      "text/plain": [
       "[4, 5, 6, 7, 8, 9, 11]"
      ]
     },
     "execution_count": 29,
     "metadata": {},
     "output_type": "execute_result"
    }
   ],
   "source": [
    "l4"
   ]
  },
  {
   "cell_type": "code",
   "execution_count": 27,
   "id": "353a2ffc",
   "metadata": {},
   "outputs": [
    {
     "name": "stdout",
     "output_type": "stream",
     "text": [
      "enter the position in the list: 5\n",
      "enter the value in the list: 6\n",
      "[1, 2, 3, 4, 5, '6']\n"
     ]
    }
   ],
   "source": [
    "l5=[1,2,3,4,5]\n",
    "a=input('enter the position in the list: ')\n",
    "b=input('enter the value in the list: ')\n",
    "l5.insert(int(a),b)\n",
    "print(l5)"
   ]
  },
  {
   "cell_type": "code",
   "execution_count": 30,
   "id": "7c013bfe",
   "metadata": {},
   "outputs": [
    {
     "data": {
      "text/plain": [
       "3"
      ]
     },
     "execution_count": 30,
     "metadata": {},
     "output_type": "execute_result"
    }
   ],
   "source": [
    "l4.index(7)     #to find the index value of the argument"
   ]
  },
  {
   "cell_type": "code",
   "execution_count": 31,
   "id": "1c949f7f",
   "metadata": {},
   "outputs": [
    {
     "data": {
      "text/plain": [
       "1"
      ]
     },
     "execution_count": 31,
     "metadata": {},
     "output_type": "execute_result"
    }
   ],
   "source": [
    "l4.count(9)    ## no of values in the list"
   ]
  },
  {
   "cell_type": "code",
   "execution_count": 33,
   "id": "2868bd31",
   "metadata": {},
   "outputs": [
    {
     "name": "stdout",
     "output_type": "stream",
     "text": [
      "[4, 5, 6, 7, 8, 9, 11]\n"
     ]
    }
   ],
   "source": [
    "l4.sort()       #without arguments-asc order        # if any str or different datatypeis present in the list,sort doesnt work\n",
    "print(l4)       # change made is permanent"
   ]
  },
  {
   "cell_type": "code",
   "execution_count": 34,
   "id": "fb06aa33",
   "metadata": {},
   "outputs": [
    {
     "name": "stdout",
     "output_type": "stream",
     "text": [
      "[11, 9, 8, 7, 6, 5, 4]\n"
     ]
    }
   ],
   "source": [
    "l4.sort(reverse=True)       # For descending order \n",
    "print(l4)"
   ]
  },
  {
   "cell_type": "code",
   "execution_count": 35,
   "id": "9d7b665c",
   "metadata": {},
   "outputs": [
    {
     "data": {
      "text/plain": [
       "[4, 5, 6, 7, 8, 9, 11]"
      ]
     },
     "execution_count": 35,
     "metadata": {},
     "output_type": "execute_result"
    }
   ],
   "source": [
    "new_list=sorted(l4)\n",
    "new_list"
   ]
  },
  {
   "cell_type": "code",
   "execution_count": 36,
   "id": "68a4e4eb",
   "metadata": {},
   "outputs": [
    {
     "data": {
      "text/plain": [
       "[11, 9, 8, 7, 6, 5, 4]"
      ]
     },
     "execution_count": 36,
     "metadata": {},
     "output_type": "execute_result"
    }
   ],
   "source": [
    "new_list.reverse()\n",
    "new_list"
   ]
  },
  {
   "cell_type": "code",
   "execution_count": 20,
   "id": "82b1b024",
   "metadata": {},
   "outputs": [
    {
     "name": "stdout",
     "output_type": "stream",
     "text": [
      "number of students you need?2\n",
      "enter the name: ji\n",
      "enter the mark: 4\n",
      "[['ji', 4]]\n"
     ]
    },
    {
     "ename": "IndexError",
     "evalue": "list index out of range",
     "output_type": "error",
     "traceback": [
      "\u001b[1;31m---------------------------------------------------------------------------\u001b[0m",
      "\u001b[1;31mIndexError\u001b[0m                                Traceback (most recent call last)",
      "Input \u001b[1;32mIn [20]\u001b[0m, in \u001b[0;36m<cell line: 5>\u001b[1;34m()\u001b[0m\n\u001b[0;32m     11\u001b[0m         \u001b[38;5;28;01mbreak\u001b[39;00m       \n\u001b[0;32m     12\u001b[0m     pst\u001b[38;5;241m.\u001b[39mappend(c)\n\u001b[1;32m---> 13\u001b[0m     \u001b[43mpst\u001b[49m\u001b[43m[\u001b[49m\u001b[38;5;241;43m1\u001b[39;49m\u001b[43m]\u001b[49m\u001b[38;5;241m.\u001b[39msort()\n\u001b[0;32m     14\u001b[0m \u001b[38;5;28mprint\u001b[39m(pst)\n",
      "\u001b[1;31mIndexError\u001b[0m: list index out of range"
     ]
    }
   ],
   "source": [
    "### nested loop - HACKER RANK\n",
    "pst=[]\n",
    "c=[]\n",
    "n=int(input('number of students you need?'))\n",
    "for i in range(n):\n",
    "    while i<n:\n",
    "        a=input('enter the name: ')\n",
    "        b=int(input('enter the mark: '))\n",
    "        c.append([a,b])       \n",
    "        print(c)\n",
    "        break       \n",
    "    pst.append(c)\n",
    "    \n",
    "print(pst)"
   ]
  },
  {
   "cell_type": "code",
   "execution_count": 10,
   "id": "8cc47d1e",
   "metadata": {},
   "outputs": [
    {
     "name": "stdout",
     "output_type": "stream",
     "text": [
      "number of elements you need? 9\n",
      "enter the element: 4\n",
      "enter the element: 5\n",
      "enter the element: 4\n",
      "enter the element: 6\n",
      "enter the element: 1\n",
      "enter the element: 2\n",
      "enter the element: 2\n",
      "enter the element: 7\n",
      "enter the element: 8\n",
      "['4', '5', '6', '1', '2', '7', '8']\n"
     ]
    }
   ],
   "source": [
    "### class assignment\n",
    "l1=[]\n",
    "l2=[]\n",
    "n=int(input('number of elements you need? '))\n",
    "if n>=5 and n<=10:\n",
    "    for i in range(n):\n",
    "        a=input('enter the element: ')\n",
    "        l2.append(a)\n",
    "else:\n",
    "    print('Invalid input')\n",
    "print('list l2 is:',l2)\n",
    "for i in (l2):\n",
    "    if i not in l1:\n",
    "        l1.append(i)\n",
    "        \n",
    "print(l1)"
   ]
  },
  {
   "cell_type": "code",
   "execution_count": null,
   "id": "1e839415",
   "metadata": {},
   "outputs": [],
   "source": []
  }
 ],
 "metadata": {
  "kernelspec": {
   "display_name": "Python 3 (ipykernel)",
   "language": "python",
   "name": "python3"
  },
  "language_info": {
   "codemirror_mode": {
    "name": "ipython",
    "version": 3
   },
   "file_extension": ".py",
   "mimetype": "text/x-python",
   "name": "python",
   "nbconvert_exporter": "python",
   "pygments_lexer": "ipython3",
   "version": "3.9.13"
  }
 },
 "nbformat": 4,
 "nbformat_minor": 5
}

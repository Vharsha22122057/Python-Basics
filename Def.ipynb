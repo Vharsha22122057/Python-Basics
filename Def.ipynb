{
 "cells": [
  {
   "cell_type": "markdown",
   "id": "da4addd6",
   "metadata": {},
   "source": [
    "# Functions"
   ]
  },
  {
   "cell_type": "code",
   "execution_count": 2,
   "id": "d728647d",
   "metadata": {},
   "outputs": [],
   "source": [
    "def hello():\n",
    "    print('Hello World')\n",
    "    \n",
    "def morning_msg():\n",
    "    print('GoodMorning')\n",
    "    "
   ]
  },
  {
   "cell_type": "code",
   "execution_count": 4,
   "id": "f88ce97a",
   "metadata": {},
   "outputs": [
    {
     "name": "stdout",
     "output_type": "stream",
     "text": [
      "Hello World\n"
     ]
    }
   ],
   "source": [
    "hello()"
   ]
  },
  {
   "cell_type": "code",
   "execution_count": 5,
   "id": "db493250",
   "metadata": {},
   "outputs": [
    {
     "name": "stdout",
     "output_type": "stream",
     "text": [
      "GoodMorning\n"
     ]
    }
   ],
   "source": [
    "morning_msg()"
   ]
  },
  {
   "cell_type": "code",
   "execution_count": 6,
   "id": "759a6c6c",
   "metadata": {},
   "outputs": [
    {
     "name": "stdout",
     "output_type": "stream",
     "text": [
      "6\n"
     ]
    }
   ],
   "source": [
    "def product(x,y):\n",
    "    a=x*y\n",
    "    print(a)\n",
    "product(2,3)\n"
   ]
  },
  {
   "cell_type": "code",
   "execution_count": 8,
   "id": "a8226908",
   "metadata": {},
   "outputs": [
    {
     "name": "stdout",
     "output_type": "stream",
     "text": [
      "6\n",
      "16\n"
     ]
    }
   ],
   "source": [
    "def product(x,y):\n",
    "    a=x*y\n",
    "    print(a)\n",
    "    return a\n",
    "a=product(2,3)\n",
    "a+=10\n",
    "print(a)"
   ]
  },
  {
   "cell_type": "code",
   "execution_count": 13,
   "id": "0d91bac6",
   "metadata": {},
   "outputs": [
    {
     "name": "stdout",
     "output_type": "stream",
     "text": [
      "enter a number54\n",
      "54\n",
      "enter a number87\n",
      "87\n",
      "enter a number63\n",
      "63\n"
     ]
    }
   ],
   "source": [
    "def input_(n):\n",
    "    for i in range(n):\n",
    "        a=int(input('enter a number'))\n",
    "        print(a)\n",
    "        \n",
    "                       \n",
    "input_(3)\n",
    "\n",
    "        "
   ]
  },
  {
   "cell_type": "code",
   "execution_count": null,
   "id": "9f0c31c4",
   "metadata": {},
   "outputs": [],
   "source": []
  }
 ],
 "metadata": {
  "kernelspec": {
   "display_name": "Python 3 (ipykernel)",
   "language": "python",
   "name": "python3"
  },
  "language_info": {
   "codemirror_mode": {
    "name": "ipython",
    "version": 3
   },
   "file_extension": ".py",
   "mimetype": "text/x-python",
   "name": "python",
   "nbconvert_exporter": "python",
   "pygments_lexer": "ipython3",
   "version": "3.9.12"
  }
 },
 "nbformat": 4,
 "nbformat_minor": 5
}

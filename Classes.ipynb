{
 "cells": [
  {
   "cell_type": "code",
   "execution_count": null,
   "id": "ea94064e",
   "metadata": {},
   "outputs": [],
   "source": []
  },
  {
   "cell_type": "code",
   "execution_count": 2,
   "id": "c184a213",
   "metadata": {},
   "outputs": [],
   "source": [
    "### classes and methods\n",
    "### methods are the functions inside a class\n",
    "# methods are also known as member functions"
   ]
  },
  {
   "cell_type": "code",
   "execution_count": 50,
   "id": "d7fcda67",
   "metadata": {},
   "outputs": [],
   "source": [
    "class Msdsa:\n",
    "    '''This class has studentsof batch 2022-24'''          #'''--docstring--'''\n",
    "    section='A'\n",
    "#   print(section)\n",
    "    def attendance(self):    # self comes with the method, self contains the object (vharsha), self is a mandatory key word\n",
    "        print('The attendance will be taken exactly at 9:05AM')\n",
    "    def classteacher(self):\n",
    "        a=100\n",
    "        b=200\n",
    "        print(a+b)"
   ]
  },
  {
   "cell_type": "code",
   "execution_count": 51,
   "id": "39b3fc4b",
   "metadata": {},
   "outputs": [
    {
     "name": "stdout",
     "output_type": "stream",
     "text": [
      "The attendance will be taken exactly at 9:05AM\n"
     ]
    }
   ],
   "source": [
    "vharsha=Msdsa()         #object for the class\n",
    "vharsha.attendance()"
   ]
  },
  {
   "cell_type": "code",
   "execution_count": 52,
   "id": "37fff89a",
   "metadata": {},
   "outputs": [
    {
     "data": {
      "text/plain": [
       "'A'"
      ]
     },
     "execution_count": 52,
     "metadata": {},
     "output_type": "execute_result"
    }
   ],
   "source": [
    "vharsha.section       # class has the access to the section also"
   ]
  },
  {
   "cell_type": "code",
   "execution_count": 18,
   "id": "65d5f38d",
   "metadata": {},
   "outputs": [],
   "source": [
    "charan=Msdsa()         # object will be created"
   ]
  },
  {
   "cell_type": "code",
   "execution_count": 9,
   "id": "e1792fca",
   "metadata": {},
   "outputs": [
    {
     "data": {
      "text/plain": [
       "<__main__.Msdsa at 0x16f337d4670>"
      ]
     },
     "execution_count": 9,
     "metadata": {},
     "output_type": "execute_result"
    }
   ],
   "source": [
    "charan                 # charan is an object od class msdsa"
   ]
  },
  {
   "cell_type": "code",
   "execution_count": 19,
   "id": "7f44719c",
   "metadata": {},
   "outputs": [
    {
     "name": "stdout",
     "output_type": "stream",
     "text": [
      "300\n"
     ]
    }
   ],
   "source": [
    "charan.classteacher()"
   ]
  },
  {
   "cell_type": "code",
   "execution_count": 21,
   "id": "f95bd35b",
   "metadata": {},
   "outputs": [],
   "source": [
    "class calculator:\n",
    "    def add(self,a,b):\n",
    "        print(a+b)\n",
    "        "
   ]
  },
  {
   "cell_type": "code",
   "execution_count": 22,
   "id": "5b8e2f13",
   "metadata": {},
   "outputs": [
    {
     "name": "stdout",
     "output_type": "stream",
     "text": [
      "120\n"
     ]
    }
   ],
   "source": [
    "x=calculator()\n",
    "x.add(100,20)"
   ]
  },
  {
   "cell_type": "code",
   "execution_count": 23,
   "id": "656500aa",
   "metadata": {},
   "outputs": [
    {
     "name": "stdout",
     "output_type": "stream",
     "text": [
      "50\n"
     ]
    }
   ],
   "source": [
    "i=20\n",
    "j=30\n",
    "y=calculator()\n",
    "y.add(i,j)"
   ]
  },
  {
   "cell_type": "code",
   "execution_count": 69,
   "id": "35ef06cb",
   "metadata": {},
   "outputs": [],
   "source": [
    "class Msdsa:\n",
    "    def details(self):\n",
    "        print('The name of the class teacher is Akhil Nair \\n strength of the class: 60\\n Batch: 2022-2024 ')\n",
    "    def attendance(self,x):        # def attendance(self)\n",
    "                                   # x=int(input('How mant days have you attended the class'))\n",
    "        percentage=(x/400)*100\n",
    "        print(percentage)"
   ]
  },
  {
   "cell_type": "code",
   "execution_count": 70,
   "id": "c2584838",
   "metadata": {},
   "outputs": [],
   "source": [
    "vharsha=Msdsa()"
   ]
  },
  {
   "cell_type": "code",
   "execution_count": 71,
   "id": "e9874069",
   "metadata": {},
   "outputs": [],
   "source": [
    "charan=Msdsa()"
   ]
  },
  {
   "cell_type": "code",
   "execution_count": 72,
   "id": "6f6146ab",
   "metadata": {},
   "outputs": [],
   "source": [
    "raswanth=Msdsa()"
   ]
  },
  {
   "cell_type": "code",
   "execution_count": 73,
   "id": "ba353312",
   "metadata": {},
   "outputs": [
    {
     "name": "stdout",
     "output_type": "stream",
     "text": [
      "The name of the class teacher is Akhil Nair \n",
      " strength of the class: 60\n",
      " Batch: 2022-2024 \n"
     ]
    }
   ],
   "source": [
    "vharsha.details()"
   ]
  },
  {
   "cell_type": "code",
   "execution_count": 68,
   "id": "b2b6f93c",
   "metadata": {},
   "outputs": [
    {
     "name": "stdout",
     "output_type": "stream",
     "text": [
      "100.0\n"
     ]
    }
   ],
   "source": [
    "charan.attendance(400)"
   ]
  },
  {
   "cell_type": "code",
   "execution_count": 65,
   "id": "330b5af0",
   "metadata": {},
   "outputs": [],
   "source": [
    "class msdsa:\n",
    "    def details(self):\n",
    "        print(a)\n",
    "        ch=self.details1()\n",
    "        print(f'ch is {ch}')\n",
    "    def details1(self):\n",
    "        return 200"
   ]
  },
  {
   "cell_type": "code",
   "execution_count": 66,
   "id": "cfc8a679",
   "metadata": {},
   "outputs": [],
   "source": [
    "a=msdsa()"
   ]
  },
  {
   "cell_type": "code",
   "execution_count": 67,
   "id": "eb8dce8f",
   "metadata": {},
   "outputs": [
    {
     "name": "stdout",
     "output_type": "stream",
     "text": [
      "<__main__.msdsa object at 0x0000016F34567970>\n",
      "ch is 200\n"
     ]
    }
   ],
   "source": [
    "a.details()"
   ]
  },
  {
   "cell_type": "markdown",
   "id": "d75bd365",
   "metadata": {},
   "source": [
    "# constructors"
   ]
  },
  {
   "cell_type": "code",
   "execution_count": 75,
   "id": "a0983cce",
   "metadata": {},
   "outputs": [],
   "source": [
    "# automatically executes when object is created"
   ]
  },
  {
   "cell_type": "code",
   "execution_count": 76,
   "id": "bca3540d",
   "metadata": {},
   "outputs": [],
   "source": [
    "# The method(function) that is executed automatically under the class during the object creation"
   ]
  },
  {
   "cell_type": "code",
   "execution_count": 22,
   "id": "4a0d4497",
   "metadata": {},
   "outputs": [],
   "source": [
    "class msdsb:\n",
    "    def __init__(self):\n",
    "        print('I am init')\n",
    "        print('object is created')"
   ]
  },
  {
   "cell_type": "code",
   "execution_count": 78,
   "id": "6d5df597",
   "metadata": {},
   "outputs": [
    {
     "name": "stdout",
     "output_type": "stream",
     "text": [
      "I am init\n",
      "object is created\n"
     ]
    }
   ],
   "source": [
    "obj_name=msdsb()"
   ]
  },
  {
   "cell_type": "code",
   "execution_count": 4,
   "id": "5686c5e9",
   "metadata": {},
   "outputs": [
    {
     "name": "stdout",
     "output_type": "stream",
     "text": [
      "This is init function\n",
      "Hello world\n"
     ]
    }
   ],
   "source": [
    "class msdsa:\n",
    "    def __init__(self):\n",
    "        print('This is init function')\n",
    "    def greet(self):\n",
    "        print('Hello world')\n",
    "\n",
    "student=msdsa()          #initfuntion gets executed\n",
    "student.greet()"
   ]
  },
  {
   "cell_type": "code",
   "execution_count": 5,
   "id": "77ddb230",
   "metadata": {},
   "outputs": [
    {
     "ename": "TypeError",
     "evalue": "__init__() takes 1 positional argument but 3 were given",
     "output_type": "error",
     "traceback": [
      "\u001b[1;31m---------------------------------------------------------------------------\u001b[0m",
      "\u001b[1;31mTypeError\u001b[0m                                 Traceback (most recent call last)",
      "Input \u001b[1;32mIn [5]\u001b[0m, in \u001b[0;36m<cell line: 7>\u001b[1;34m()\u001b[0m\n\u001b[0;32m      4\u001b[0m     \u001b[38;5;28;01mdef\u001b[39;00m \u001b[38;5;21mgreet\u001b[39m(\u001b[38;5;28mself\u001b[39m):\n\u001b[0;32m      5\u001b[0m         \u001b[38;5;28mprint\u001b[39m(\u001b[38;5;124m'\u001b[39m\u001b[38;5;124mHello world\u001b[39m\u001b[38;5;124m'\u001b[39m)\n\u001b[1;32m----> 7\u001b[0m student\u001b[38;5;241m=\u001b[39m\u001b[43mmsdsa\u001b[49m\u001b[43m(\u001b[49m\u001b[38;5;124;43m'\u001b[39;49m\u001b[38;5;124;43mvharsha\u001b[39;49m\u001b[38;5;124;43m'\u001b[39;49m\u001b[43m,\u001b[49m\u001b[38;5;124;43m'\u001b[39;49m\u001b[38;5;124;43m22122057\u001b[39;49m\u001b[38;5;124;43m'\u001b[39;49m\u001b[43m)\u001b[49m\n",
      "\u001b[1;31mTypeError\u001b[0m: __init__() takes 1 positional argument but 3 were given"
     ]
    }
   ],
   "source": [
    "class msdsa:\n",
    "    def __init__(self):\n",
    "        print('Welcome')\n",
    "    def greet(self):\n",
    "        print('Hello world')\n",
    "\n",
    "student=msdsa('vharsha','22122057')            # error: two values during assigning          \n"
   ]
  },
  {
   "cell_type": "code",
   "execution_count": 12,
   "id": "bdbe03cd",
   "metadata": {},
   "outputs": [
    {
     "name": "stdout",
     "output_type": "stream",
     "text": [
      "Welcome\n",
      "vharsha\n",
      "22122057\n"
     ]
    }
   ],
   "source": [
    "class msdsa:\n",
    "    def __init__(self,name,reg):\n",
    "        self.n=name            # assigning the name to the student\n",
    "        self.r=reg              # assigning th reg no to particular student\n",
    "        print('Welcome')\n",
    "        print(name)\n",
    "        print(reg)\n",
    "    def greet(self):\n",
    "        print('Hello world')\n",
    "\n",
    "student=msdsa('vharsha','22122057')                  \n"
   ]
  },
  {
   "cell_type": "code",
   "execution_count": 9,
   "id": "41ec60b5",
   "metadata": {},
   "outputs": [
    {
     "ename": "AttributeError",
     "evalue": "'msdsa' object has no attribute 'name'",
     "output_type": "error",
     "traceback": [
      "\u001b[1;31m---------------------------------------------------------------------------\u001b[0m",
      "\u001b[1;31mAttributeError\u001b[0m                            Traceback (most recent call last)",
      "Input \u001b[1;32mIn [9]\u001b[0m, in \u001b[0;36m<cell line: 1>\u001b[1;34m()\u001b[0m\n\u001b[1;32m----> 1\u001b[0m \u001b[43mstudent\u001b[49m\u001b[38;5;241;43m.\u001b[39;49m\u001b[43mname\u001b[49m\n",
      "\u001b[1;31mAttributeError\u001b[0m: 'msdsa' object has no attribute 'name'"
     ]
    }
   ],
   "source": [
    "student.name                 # name not yet assigned to the student (before using self.n)"
   ]
  },
  {
   "cell_type": "code",
   "execution_count": 11,
   "id": "95e17f79",
   "metadata": {},
   "outputs": [
    {
     "data": {
      "text/plain": [
       "'vharsha'"
      ]
     },
     "execution_count": 11,
     "metadata": {},
     "output_type": "execute_result"
    }
   ],
   "source": [
    "student.name                 # name not yet assigned to the student"
   ]
  },
  {
   "cell_type": "code",
   "execution_count": 46,
   "id": "c8336679",
   "metadata": {},
   "outputs": [],
   "source": [
    "\n",
    "class admission:\n",
    "    def __init__(self,appno,name,marks):\n",
    "        self.a=appno\n",
    "        self.n=name\n",
    "        self.m=marks\n",
    "        self.interview_m()\n",
    "        self.display()\n",
    "        \n",
    "    def interview_m(self):\n",
    "        self.p1=int(input('enter the mark 1:'))\n",
    "        self.p2=int(input('enter the mark 2:'))\n",
    "        self.avg=(self.p1+self.p2)/2\n",
    "        \n",
    "    def display(self):\n",
    "        print(self.n)\n",
    "        print(self.a)\n",
    "        print(self.m)\n",
    "        print(self.avg)\n",
    "\n",
    "\n",
    "    "
   ]
  },
  {
   "cell_type": "code",
   "execution_count": 44,
   "id": "967ab7a7",
   "metadata": {},
   "outputs": [],
   "source": [
    "student=admission('22122057','vharsha',[98,96])"
   ]
  },
  {
   "cell_type": "code",
   "execution_count": 33,
   "id": "736d0f35",
   "metadata": {},
   "outputs": [
    {
     "data": {
      "text/plain": [
       "[98, 96]"
      ]
     },
     "execution_count": 33,
     "metadata": {},
     "output_type": "execute_result"
    }
   ],
   "source": [
    "student.m"
   ]
  },
  {
   "cell_type": "code",
   "execution_count": 38,
   "id": "df360075",
   "metadata": {},
   "outputs": [
    {
     "name": "stdout",
     "output_type": "stream",
     "text": [
      "enter the mark 1:93\n",
      "enter the mark 2:98\n"
     ]
    }
   ],
   "source": [
    "student=admission('22122057','vharsha',[98,96])\n",
    "student.interview_m()"
   ]
  },
  {
   "cell_type": "code",
   "execution_count": 39,
   "id": "1868e73c",
   "metadata": {},
   "outputs": [
    {
     "data": {
      "text/plain": [
       "95.5"
      ]
     },
     "execution_count": 39,
     "metadata": {},
     "output_type": "execute_result"
    }
   ],
   "source": [
    "student.avg\n"
   ]
  },
  {
   "cell_type": "code",
   "execution_count": 45,
   "id": "84327523",
   "metadata": {},
   "outputs": [
    {
     "name": "stdout",
     "output_type": "stream",
     "text": [
      "vharsha\n",
      "22122057\n",
      "[98, 96]\n"
     ]
    },
    {
     "ename": "AttributeError",
     "evalue": "'admission' object has no attribute 'avg'",
     "output_type": "error",
     "traceback": [
      "\u001b[1;31m---------------------------------------------------------------------------\u001b[0m",
      "\u001b[1;31mAttributeError\u001b[0m                            Traceback (most recent call last)",
      "Input \u001b[1;32mIn [45]\u001b[0m, in \u001b[0;36m<cell line: 1>\u001b[1;34m()\u001b[0m\n\u001b[1;32m----> 1\u001b[0m \u001b[43mstudent\u001b[49m\u001b[38;5;241;43m.\u001b[39;49m\u001b[43mdisplay\u001b[49m\u001b[43m(\u001b[49m\u001b[43m)\u001b[49m\n",
      "Input \u001b[1;32mIn [43]\u001b[0m, in \u001b[0;36madmission.display\u001b[1;34m(self)\u001b[0m\n\u001b[0;32m     14\u001b[0m \u001b[38;5;28mprint\u001b[39m(\u001b[38;5;28mself\u001b[39m\u001b[38;5;241m.\u001b[39ma)\n\u001b[0;32m     15\u001b[0m \u001b[38;5;28mprint\u001b[39m(\u001b[38;5;28mself\u001b[39m\u001b[38;5;241m.\u001b[39mm)\n\u001b[1;32m---> 16\u001b[0m \u001b[38;5;28mprint\u001b[39m(\u001b[38;5;28;43mself\u001b[39;49m\u001b[38;5;241;43m.\u001b[39;49m\u001b[43mavg\u001b[49m)\n",
      "\u001b[1;31mAttributeError\u001b[0m: 'admission' object has no attribute 'avg'"
     ]
    }
   ],
   "source": [
    "student.display()"
   ]
  },
  {
   "cell_type": "code",
   "execution_count": null,
   "id": "830b0fe0",
   "metadata": {},
   "outputs": [],
   "source": []
  }
 ],
 "metadata": {
  "kernelspec": {
   "display_name": "Python 3 (ipykernel)",
   "language": "python",
   "name": "python3"
  },
  "language_info": {
   "codemirror_mode": {
    "name": "ipython",
    "version": 3
   },
   "file_extension": ".py",
   "mimetype": "text/x-python",
   "name": "python",
   "nbconvert_exporter": "python",
   "pygments_lexer": "ipython3",
   "version": "3.9.12"
  }
 },
 "nbformat": 4,
 "nbformat_minor": 5
}

{
 "cells": [
  {
   "cell_type": "code",
   "execution_count": 2,
   "id": "dbc3c1d9",
   "metadata": {},
   "outputs": [],
   "source": [
    "###tuple"
   ]
  },
  {
   "cell_type": "code",
   "execution_count": 3,
   "id": "6b667d02",
   "metadata": {},
   "outputs": [],
   "source": [
    "a=()    #tuples\n",
    "a=('hello',)               # A tuple with single value or else it is a variable\n",
    "\n",
    "### ordered collection\n",
    "### immutable \n",
    "### similar elements\n",
    "### no updates are availabe\n",
    "### cannot add values inside a tuple,instead can over write"
   ]
  },
  {
   "cell_type": "code",
   "execution_count": 4,
   "id": "9907221b",
   "metadata": {},
   "outputs": [
    {
     "data": {
      "text/plain": [
       "tuple"
      ]
     },
     "execution_count": 4,
     "metadata": {},
     "output_type": "execute_result"
    }
   ],
   "source": [
    "type(a)"
   ]
  },
  {
   "cell_type": "code",
   "execution_count": 5,
   "id": "fe206ebb",
   "metadata": {},
   "outputs": [
    {
     "name": "stdout",
     "output_type": "stream",
     "text": [
      "(('hoii', 1, 13.1, True), [1, 'a', 223])\n"
     ]
    }
   ],
   "source": [
    "a=('hoii',1,13.10,True)\n",
    "b=[1,'a',223]\n",
    "c=(a,b)\n",
    "print(c)"
   ]
  },
  {
   "cell_type": "code",
   "execution_count": 6,
   "id": "76e003e5",
   "metadata": {},
   "outputs": [
    {
     "name": "stdout",
     "output_type": "stream",
     "text": [
      "(('hoii', 1, 13.1, True), (1, 2, 3, 4))\n"
     ]
    }
   ],
   "source": [
    "d=(1,2,3,4)\n",
    "e=(a,d)\n",
    "print(e)"
   ]
  },
  {
   "cell_type": "code",
   "execution_count": 7,
   "id": "9c91857e",
   "metadata": {},
   "outputs": [
    {
     "data": {
      "text/plain": [
       "13.1"
      ]
     },
     "execution_count": 7,
     "metadata": {},
     "output_type": "execute_result"
    }
   ],
   "source": [
    "c[0][2]       #nested indexing"
   ]
  },
  {
   "cell_type": "code",
   "execution_count": 9,
   "id": "7d5ce3f1",
   "metadata": {},
   "outputs": [
    {
     "data": {
      "text/plain": [
       "2"
      ]
     },
     "execution_count": 9,
     "metadata": {},
     "output_type": "execute_result"
    }
   ],
   "source": [
    "#to count the number of elements in the tuple\n",
    "a.count(1)              # True is also cosidered as 1"
   ]
  },
  {
   "cell_type": "code",
   "execution_count": 10,
   "id": "c6f87e2f",
   "metadata": {},
   "outputs": [
    {
     "data": {
      "text/plain": [
       "0"
      ]
     },
     "execution_count": 10,
     "metadata": {},
     "output_type": "execute_result"
    }
   ],
   "source": [
    "e.count(1)"
   ]
  },
  {
   "cell_type": "code",
   "execution_count": 11,
   "id": "9b6dd156",
   "metadata": {},
   "outputs": [
    {
     "data": {
      "text/plain": [
       "1"
      ]
     },
     "execution_count": 11,
     "metadata": {},
     "output_type": "execute_result"
    }
   ],
   "source": [
    "#to find the index of a value in the list\n",
    "a.index(True)"
   ]
  },
  {
   "cell_type": "code",
   "execution_count": 12,
   "id": "c25253c0",
   "metadata": {},
   "outputs": [
    {
     "data": {
      "text/plain": [
       "2"
      ]
     },
     "execution_count": 12,
     "metadata": {},
     "output_type": "execute_result"
    }
   ],
   "source": [
    "a.index(13.1)"
   ]
  },
  {
   "cell_type": "code",
   "execution_count": null,
   "id": "687c6217",
   "metadata": {},
   "outputs": [],
   "source": []
  }
 ],
 "metadata": {
  "kernelspec": {
   "display_name": "Python 3 (ipykernel)",
   "language": "python",
   "name": "python3"
  },
  "language_info": {
   "codemirror_mode": {
    "name": "ipython",
    "version": 3
   },
   "file_extension": ".py",
   "mimetype": "text/x-python",
   "name": "python",
   "nbconvert_exporter": "python",
   "pygments_lexer": "ipython3",
   "version": "3.9.13"
  }
 },
 "nbformat": 4,
 "nbformat_minor": 5
}

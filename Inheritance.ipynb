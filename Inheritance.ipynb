{
 "cells": [
  {
   "cell_type": "code",
   "execution_count": 1,
   "id": "84ab368d",
   "metadata": {},
   "outputs": [],
   "source": [
    "### * single inheritance\n",
    "### * multiple inheritance\n",
    "### * multi level inheritance"
   ]
  },
  {
   "cell_type": "code",
   "execution_count": 12,
   "id": "395a594b",
   "metadata": {},
   "outputs": [],
   "source": [
    "class A:\n",
    "    def __init__(self):\n",
    "        print(\"A\")\n",
    "class B(A):\n",
    "    def greet(self):            ### _init__ prints B\n",
    "        print(\"B\")"
   ]
  },
  {
   "cell_type": "code",
   "execution_count": 3,
   "id": "d86e4028",
   "metadata": {},
   "outputs": [
    {
     "name": "stdout",
     "output_type": "stream",
     "text": [
      "A\n"
     ]
    }
   ],
   "source": [
    "a=A()"
   ]
  },
  {
   "cell_type": "code",
   "execution_count": 15,
   "id": "ebee819e",
   "metadata": {},
   "outputs": [
    {
     "name": "stdout",
     "output_type": "stream",
     "text": [
      "A\n"
     ]
    }
   ],
   "source": [
    "b=B()"
   ]
  },
  {
   "cell_type": "code",
   "execution_count": 14,
   "id": "c14abfda",
   "metadata": {},
   "outputs": [],
   "source": [
    "class A:\n",
    "    def __init__(self):\n",
    "        print(\"A\")\n",
    "    def hello(self):\n",
    "        print('Hello')\n",
    "class B(A):\n",
    "    def greet(self):\n",
    "        print(\"B\")"
   ]
  },
  {
   "cell_type": "code",
   "execution_count": 16,
   "id": "83898f84",
   "metadata": {},
   "outputs": [
    {
     "name": "stdout",
     "output_type": "stream",
     "text": [
      "Hello\n"
     ]
    }
   ],
   "source": [
    "b.hello()"
   ]
  },
  {
   "cell_type": "code",
   "execution_count": 19,
   "id": "2eb5a4d1",
   "metadata": {},
   "outputs": [],
   "source": [
    "class A:\n",
    "    def __init__(self):\n",
    "        print(\"A\")\n",
    "    def hello(self):\n",
    "        print('Hello')\n",
    "class A1:\n",
    "    def run(self):\n",
    "        print('A1,Runs')\n",
    "class B(A,A1):\n",
    "    def greet(self):\n",
    "        print(\"B\")"
   ]
  },
  {
   "cell_type": "code",
   "execution_count": 21,
   "id": "2b161231",
   "metadata": {},
   "outputs": [
    {
     "name": "stdout",
     "output_type": "stream",
     "text": [
      "A\n"
     ]
    }
   ],
   "source": [
    "a=A()"
   ]
  },
  {
   "cell_type": "code",
   "execution_count": 22,
   "id": "395a95d3",
   "metadata": {},
   "outputs": [
    {
     "name": "stdout",
     "output_type": "stream",
     "text": [
      "Hello\n"
     ]
    }
   ],
   "source": [
    "a.hello()"
   ]
  },
  {
   "cell_type": "code",
   "execution_count": 23,
   "id": "5d7735e5",
   "metadata": {},
   "outputs": [
    {
     "name": "stdout",
     "output_type": "stream",
     "text": [
      "A\n"
     ]
    }
   ],
   "source": [
    "b=B()"
   ]
  },
  {
   "cell_type": "code",
   "execution_count": 24,
   "id": "92de4392",
   "metadata": {},
   "outputs": [
    {
     "name": "stdout",
     "output_type": "stream",
     "text": [
      "Hello\n"
     ]
    }
   ],
   "source": [
    "b.hello()"
   ]
  },
  {
   "cell_type": "code",
   "execution_count": 25,
   "id": "11ad4f13",
   "metadata": {},
   "outputs": [
    {
     "name": "stdout",
     "output_type": "stream",
     "text": [
      "A1,Runs\n",
      "Hello\n"
     ]
    }
   ],
   "source": [
    "b.run()\n",
    "b.hello()"
   ]
  },
  {
   "cell_type": "code",
   "execution_count": 45,
   "id": "0e96883f",
   "metadata": {},
   "outputs": [],
   "source": [
    "# EG FOR MULTI LEVEL INHERITANCE\n",
    "class CUL:\n",
    "    def __init__(self):\n",
    "        print('Christ university Lavasa')\n",
    "    def politics(self):\n",
    "        \n",
    "        print('These are rules to be followed by all working or studying in CUL')\n",
    "\n",
    "class Msds(CUL):\n",
    "    def syllabus(self):\n",
    "        self.year=int(input('Year of Study'))\n",
    "        print(f'This student belongs to {self.year}')\n",
    "        \n",
    "class Student(Msds):\n",
    "    def study(self):\n",
    "        # self.syllabus()\n",
    "        \n",
    "        print(\"Students are good\")"
   ]
  },
  {
   "cell_type": "code",
   "execution_count": 46,
   "id": "c53acb67",
   "metadata": {},
   "outputs": [
    {
     "name": "stdout",
     "output_type": "stream",
     "text": [
      "Christ university Lavasa\n"
     ]
    }
   ],
   "source": [
    "s1=Student()"
   ]
  },
  {
   "cell_type": "code",
   "execution_count": 47,
   "id": "4cbcfe64",
   "metadata": {},
   "outputs": [
    {
     "data": {
      "text/plain": [
       "<bound method CUL.politics of <__main__.Student object at 0x0000013FE9B6C100>>"
      ]
     },
     "execution_count": 47,
     "metadata": {},
     "output_type": "execute_result"
    }
   ],
   "source": [
    "s1.politics"
   ]
  },
  {
   "cell_type": "code",
   "execution_count": 43,
   "id": "f92a5955",
   "metadata": {},
   "outputs": [
    {
     "name": "stdout",
     "output_type": "stream",
     "text": [
      "Students are good\n"
     ]
    }
   ],
   "source": [
    "s1.study()"
   ]
  },
  {
   "cell_type": "code",
   "execution_count": 44,
   "id": "155ef55a",
   "metadata": {},
   "outputs": [
    {
     "name": "stdout",
     "output_type": "stream",
     "text": [
      "Year of Study2022\n",
      "This student belongs to 2022\n"
     ]
    }
   ],
   "source": [
    "s1.syllabus()"
   ]
  },
  {
   "cell_type": "code",
   "execution_count": null,
   "id": "94677483",
   "metadata": {},
   "outputs": [],
   "source": []
  }
 ],
 "metadata": {
  "kernelspec": {
   "display_name": "Python 3 (ipykernel)",
   "language": "python",
   "name": "python3"
  },
  "language_info": {
   "codemirror_mode": {
    "name": "ipython",
    "version": 3
   },
   "file_extension": ".py",
   "mimetype": "text/x-python",
   "name": "python",
   "nbconvert_exporter": "python",
   "pygments_lexer": "ipython3",
   "version": "3.9.12"
  }
 },
 "nbformat": 4,
 "nbformat_minor": 5
}

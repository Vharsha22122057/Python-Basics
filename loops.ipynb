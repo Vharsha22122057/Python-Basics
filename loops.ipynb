{
 "cells": [
  {
   "cell_type": "code",
   "execution_count": 1,
   "id": "f728793d",
   "metadata": {},
   "outputs": [],
   "source": [
    "# Initial Condition\n",
    "# Condition to execute\n",
    "# The change update"
   ]
  },
  {
   "cell_type": "markdown",
   "id": "49c67f5f",
   "metadata": {},
   "source": [
    "### For Loop\n",
    " for ini_variable in range(start,sstop,update):\n",
    "     # body of loop"
   ]
  },
  {
   "cell_type": "markdown",
   "id": "9f303e86",
   "metadata": {},
   "source": [
    "### While loop\n",
    "----\n",
    "while condition:\n",
    "    # do something\n",
    "    # Body of the loop\n",
    "----\n",
    "\n",
    "-while loop syntax does not mandate Initialisation and Updation"
   ]
  },
  {
   "cell_type": "code",
   "execution_count": 2,
   "id": "04326631",
   "metadata": {},
   "outputs": [
    {
     "name": "stdout",
     "output_type": "stream",
     "text": [
      "1\n",
      "3\n",
      "5\n",
      "7\n",
      "9\n"
     ]
    }
   ],
   "source": [
    "count=1\n",
    "while (count<10):\n",
    "    print(count)\n",
    "    count=count+2"
   ]
  },
  {
   "cell_type": "code",
   "execution_count": 4,
   "id": "206a0db7",
   "metadata": {},
   "outputs": [
    {
     "name": "stdout",
     "output_type": "stream",
     "text": [
      "1\n",
      "6\n",
      "11\n",
      "16\n"
     ]
    }
   ],
   "source": [
    "for i in range(1,20,5):\n",
    "    print(i)"
   ]
  },
  {
   "cell_type": "code",
   "execution_count": 6,
   "id": "4ad84c32",
   "metadata": {},
   "outputs": [
    {
     "data": {
      "text/plain": [
       "9"
      ]
     },
     "execution_count": 6,
     "metadata": {},
     "output_type": "execute_result"
    }
   ],
   "source": [
    "num=378239834\n",
    "a=str(num)\n",
    "len(a)"
   ]
  },
  {
   "cell_type": "code",
   "execution_count": 10,
   "id": "a027e232",
   "metadata": {},
   "outputs": [
    {
     "name": "stdout",
     "output_type": "stream",
     "text": [
      "9\n"
     ]
    }
   ],
   "source": [
    "###counting the digits\n",
    "\n",
    "num=378239834\n",
    "count=0\n",
    "while (num!=0):\n",
    "    count+=1\n",
    "    num=num//10\n",
    "print(count)\n",
    "    "
   ]
  },
  {
   "cell_type": "code",
   "execution_count": 12,
   "id": "b8a3a936",
   "metadata": {},
   "outputs": [],
   "source": [
    "### write two for loops and convert it to while loop logic\n",
    "### Reversing a number\n",
    "### check palindrome or not\n"
   ]
  }
 ],
 "metadata": {
  "kernelspec": {
   "display_name": "Python 3 (ipykernel)",
   "language": "python",
   "name": "python3"
  },
  "language_info": {
   "codemirror_mode": {
    "name": "ipython",
    "version": 3
   },
   "file_extension": ".py",
   "mimetype": "text/x-python",
   "name": "python",
   "nbconvert_exporter": "python",
   "pygments_lexer": "ipython3",
   "version": "3.9.13"
  }
 },
 "nbformat": 4,
 "nbformat_minor": 5
}

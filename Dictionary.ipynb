{
 "cells": [
  {
   "cell_type": "markdown",
   "id": "28118df9",
   "metadata": {},
   "source": [
    "### Dictionary"
   ]
  },
  {
   "cell_type": "code",
   "execution_count": 1,
   "id": "58f1e309",
   "metadata": {},
   "outputs": [
    {
     "name": "stdout",
     "output_type": "stream",
     "text": [
      "{}\n"
     ]
    }
   ],
   "source": [
    "dict={}\n",
    "print(dict)"
   ]
  },
  {
   "cell_type": "code",
   "execution_count": 2,
   "id": "6860e2d1",
   "metadata": {},
   "outputs": [
    {
     "name": "stdout",
     "output_type": "stream",
     "text": [
      "integrated keys:  {22122057: 'vharsha', 22122016: 'charan', 22122143: 'ras'}\n"
     ]
    }
   ],
   "source": [
    "#dict with int keys\n",
    "reg={22122057:'vharsha',22122016:'charan',22122143:'ras'}\n",
    "print('integrated keys: ',reg)"
   ]
  },
  {
   "cell_type": "code",
   "execution_count": 4,
   "id": "e13e11e6",
   "metadata": {},
   "outputs": [],
   "source": [
    "# dict with mixed values\n",
    "dict={'a':2,2210:['ds','student',True]}\n"
   ]
  },
  {
   "cell_type": "code",
   "execution_count": 7,
   "id": "9e98ffff",
   "metadata": {},
   "outputs": [
    {
     "data": {
      "text/plain": [
       "list"
      ]
     },
     "execution_count": 7,
     "metadata": {},
     "output_type": "execute_result"
    }
   ],
   "source": [
    "# dict should have UNIQUE KEYS , values can be similar\n",
    " #using dict()\n",
    "l1=[('a',12),('b',24)]\n",
    "type(l1)"
   ]
  },
  {
   "cell_type": "code",
   "execution_count": 9,
   "id": "78a55f11",
   "metadata": {},
   "outputs": [
    {
     "ename": "TypeError",
     "evalue": "unhashable type: 'list'",
     "output_type": "error",
     "traceback": [
      "\u001b[1;31m---------------------------------------------------------------------------\u001b[0m",
      "\u001b[1;31mTypeError\u001b[0m                                 Traceback (most recent call last)",
      "Input \u001b[1;32mIn [9]\u001b[0m, in \u001b[0;36m<cell line: 1>\u001b[1;34m()\u001b[0m\n\u001b[1;32m----> 1\u001b[0m d1\u001b[38;5;241m=\u001b[39m\u001b[38;5;28mdict\u001b[39m({l1})\n",
      "\u001b[1;31mTypeError\u001b[0m: unhashable type: 'list'"
     ]
    }
   ],
   "source": [
    "d1=dict({l1})"
   ]
  },
  {
   "cell_type": "code",
   "execution_count": 11,
   "id": "a4df344a",
   "metadata": {},
   "outputs": [
    {
     "name": "stdout",
     "output_type": "stream",
     "text": [
      "dict_keys(['a', 2210])\n",
      "dict_values([2, ['ds', 'student', True]])\n"
     ]
    }
   ],
   "source": [
    "### get vs [ ] for retrieving elements\n",
    "print(dict.keys())                                #.keys()     and     .values() are in built\n"
   ]
  },
  {
   "cell_type": "code",
   "execution_count": 14,
   "id": "19ad0bbd",
   "metadata": {},
   "outputs": [
    {
     "data": {
      "text/plain": [
       "2"
      ]
     },
     "execution_count": 14,
     "metadata": {},
     "output_type": "execute_result"
    }
   ],
   "source": [
    "#indexing - use the nam eof the key\n",
    "dict['a']      # can access value swith the help of key, but vice versa is not possible"
   ]
  },
  {
   "cell_type": "code",
   "execution_count": 15,
   "id": "757a86f2",
   "metadata": {},
   "outputs": [
    {
     "data": {
      "text/plain": [
       "2"
      ]
     },
     "execution_count": 15,
     "metadata": {},
     "output_type": "execute_result"
    }
   ],
   "source": [
    "dict.get('a')"
   ]
  },
  {
   "cell_type": "code",
   "execution_count": 17,
   "id": "2c35702b",
   "metadata": {},
   "outputs": [
    {
     "name": "stdout",
     "output_type": "stream",
     "text": [
      "2\n",
      "['ds', 'student', True]\n"
     ]
    }
   ],
   "source": [
    "for i in dict:\n",
    "    print(i)            # fetch the keys in a dictionary"
   ]
  },
  {
   "cell_type": "code",
   "execution_count": 18,
   "id": "7a94e8c7",
   "metadata": {},
   "outputs": [
    {
     "name": "stdout",
     "output_type": "stream",
     "text": [
      "2\n",
      "['ds', 'student', True]\n"
     ]
    }
   ],
   "source": [
    "for i in dict:\n",
    "    print(dict.get(i))    # fetch values from the dictionary"
   ]
  },
  {
   "cell_type": "code",
   "execution_count": 19,
   "id": "e49dd0e8",
   "metadata": {},
   "outputs": [
    {
     "name": "stdout",
     "output_type": "stream",
     "text": [
      "2\n",
      "['ds', 'student', True]\n"
     ]
    }
   ],
   "source": [
    "for i in dict:\n",
    "    print(dict[i]) "
   ]
  },
  {
   "cell_type": "code",
   "execution_count": 20,
   "id": "9a21f988",
   "metadata": {},
   "outputs": [
    {
     "name": "stdout",
     "output_type": "stream",
     "text": [
      "{'a': 2, 2210: ['ds', 'student', True], 'age': 21}\n"
     ]
    }
   ],
   "source": [
    "#changing and adding elements\n",
    "dict['age']= 21\n",
    "print(dict)"
   ]
  },
  {
   "cell_type": "code",
   "execution_count": 21,
   "id": "d0da7991",
   "metadata": {},
   "outputs": [
    {
     "name": "stdout",
     "output_type": "stream",
     "text": [
      "{'a': 2, 2210: ['ds', 'student', True], 'age': 21, 'username': 'vharsha'}\n"
     ]
    }
   ],
   "source": [
    "dict['username']= 'vharsha'\n",
    "print(dict)"
   ]
  },
  {
   "cell_type": "code",
   "execution_count": 23,
   "id": "d11f60f0",
   "metadata": {},
   "outputs": [
    {
     "name": "stdout",
     "output_type": "stream",
     "text": [
      "{'a': 2, 2210: ['ds', 'student', True], 'age': 21, 'username': 'charan', 'usernmae': 'charan'}\n"
     ]
    }
   ],
   "source": [
    "#update a value\n",
    "dict['username']='charan'\n",
    "print(dict)"
   ]
  },
  {
   "cell_type": "code",
   "execution_count": 5,
   "id": "80bad6d6",
   "metadata": {},
   "outputs": [
    {
     "name": "stdout",
     "output_type": "stream",
     "text": [
      "{'a': 1, 'b': 2, 'c': 3, 'd': 4}\n"
     ]
    }
   ],
   "source": [
    "k=['a','b','c','d']\n",
    "v=[1,2,3,4]\n",
    "d={}                       # creating an empty dict\n",
    "for i in range(len(k)):\n",
    "    d[k[i]]=v[i]   \n",
    "print(d)"
   ]
  },
  {
   "cell_type": "code",
   "execution_count": 7,
   "id": "f78d45a1",
   "metadata": {},
   "outputs": [
    {
     "data": {
      "text/plain": [
       "{1: 1, 2: 4, 3: 9, 4: 16}"
      ]
     },
     "execution_count": 7,
     "metadata": {},
     "output_type": "execute_result"
    }
   ],
   "source": [
    "#removing elements from dictionary\n",
    "\n",
    "squares={1:1,2:4,3:9,4:16}\n",
    "squares"
   ]
  },
  {
   "cell_type": "code",
   "execution_count": 8,
   "id": "201ad826",
   "metadata": {},
   "outputs": [
    {
     "data": {
      "text/plain": [
       "4"
      ]
     },
     "execution_count": 8,
     "metadata": {},
     "output_type": "execute_result"
    }
   ],
   "source": [
    "squares.pop(2)              #removes the KEY 4"
   ]
  },
  {
   "cell_type": "code",
   "execution_count": 9,
   "id": "7449a40f",
   "metadata": {},
   "outputs": [
    {
     "data": {
      "text/plain": [
       "{1: 1, 3: 9, 4: 16}"
      ]
     },
     "execution_count": 9,
     "metadata": {},
     "output_type": "execute_result"
    }
   ],
   "source": [
    "squares"
   ]
  },
  {
   "cell_type": "code",
   "execution_count": 10,
   "id": "3a360ffc",
   "metadata": {},
   "outputs": [
    {
     "data": {
      "text/plain": [
       "(4, 16)"
      ]
     },
     "execution_count": 10,
     "metadata": {},
     "output_type": "execute_result"
    }
   ],
   "source": [
    "squares.popitem()               # removes and returns (key,value)"
   ]
  },
  {
   "cell_type": "code",
   "execution_count": 11,
   "id": "924b0aea",
   "metadata": {},
   "outputs": [
    {
     "data": {
      "text/plain": [
       "{1: 1, 3: 9}"
      ]
     },
     "execution_count": 11,
     "metadata": {},
     "output_type": "execute_result"
    }
   ],
   "source": [
    "squares"
   ]
  },
  {
   "cell_type": "code",
   "execution_count": 12,
   "id": "bf5cc473",
   "metadata": {},
   "outputs": [],
   "source": [
    "#clear the whole dict\n",
    "squares.clear()"
   ]
  },
  {
   "cell_type": "code",
   "execution_count": 13,
   "id": "48014a94",
   "metadata": {},
   "outputs": [
    {
     "data": {
      "text/plain": [
       "{}"
      ]
     },
     "execution_count": 13,
     "metadata": {},
     "output_type": "execute_result"
    }
   ],
   "source": [
    "squares"
   ]
  },
  {
   "cell_type": "code",
   "execution_count": 14,
   "id": "07802d04",
   "metadata": {},
   "outputs": [],
   "source": [
    "squares={1:1,2:4,3:9,4:16}"
   ]
  },
  {
   "cell_type": "code",
   "execution_count": null,
   "id": "a0bcf3e2",
   "metadata": {},
   "outputs": [],
   "source": [
    "#delete the dict\n"
   ]
  }
 ],
 "metadata": {
  "kernelspec": {
   "display_name": "Python 3 (ipykernel)",
   "language": "python",
   "name": "python3"
  },
  "language_info": {
   "codemirror_mode": {
    "name": "ipython",
    "version": 3
   },
   "file_extension": ".py",
   "mimetype": "text/x-python",
   "name": "python",
   "nbconvert_exporter": "python",
   "pygments_lexer": "ipython3",
   "version": "3.9.12"
  }
 },
 "nbformat": 4,
 "nbformat_minor": 5
}
